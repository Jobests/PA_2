{
 "cells": [
  {
   "cell_type": "code",
   "execution_count": 1,
   "id": "af7a1dcd-4fe4-4c42-a56d-02acccf03327",
   "metadata": {},
   "outputs": [
    {
     "name": "stdout",
     "output_type": "stream",
     "text": [
      "Your current value: [[0.79734895 0.2894842  0.25893706 0.14694201 0.1094104 ]\n",
      " [0.07596643 0.60125185 0.32691227 0.21889702 0.34183722]\n",
      " [0.62428312 0.14069875 0.93262653 0.04607238 0.45364054]\n",
      " [0.35307969 0.54233981 0.70073701 0.6109565  0.17355964]\n",
      " [0.35265143 0.54407486 0.23362842 0.24678614 0.72716084]]\n",
      "Your normalized value: [[ 1.67850514 -0.43478408 -0.56189458 -1.0279201  -1.18409384]\n",
      " [-1.32325843  0.86252038 -0.27904115 -0.72850623 -0.21693655]\n",
      " [ 0.95835643 -1.05389909  2.24141218 -1.44765131  0.24829113]\n",
      " [-0.17015523  0.61737997  1.27649068  0.90290265 -0.9171608 ]\n",
      " [-0.1719373   0.62459972 -0.66720701 -0.61245611  1.38644355]]\n"
     ]
    }
   ],
   "source": [
    "import numpy as np\n",
    "\n",
    "#Create a random array that is 5 x 5\n",
    "X = np.random.rand(5, 5)\n",
    "\n",
    "#Set the values\n",
    "mean = np.mean(X)\n",
    "std = np.std(X)\n",
    "Z = (X - mean) / std\n",
    "\n",
    "#saving\n",
    "Normalized_X = np.save(\"X_normalized.npy\", Z)\n",
    "\n",
    "#printing the output\n",
    "print(\"Your current value: \" + str(X))\n",
    "print(\"Your normalized value: \" + str(Z))"
   ]
  },
  {
   "cell_type": "code",
   "execution_count": null,
   "id": "fb6656b1-7e33-4a0f-88e0-6a6eba0992dc",
   "metadata": {},
   "outputs": [],
   "source": []
  }
 ],
 "metadata": {
  "kernelspec": {
   "display_name": "Python 3 (ipykernel)",
   "language": "python",
   "name": "python3"
  },
  "language_info": {
   "codemirror_mode": {
    "name": "ipython",
    "version": 3
   },
   "file_extension": ".py",
   "mimetype": "text/x-python",
   "name": "python",
   "nbconvert_exporter": "python",
   "pygments_lexer": "ipython3",
   "version": "3.12.4"
  }
 },
 "nbformat": 4,
 "nbformat_minor": 5
}
